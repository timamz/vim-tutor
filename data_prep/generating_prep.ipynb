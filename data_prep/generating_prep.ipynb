{
 "cells": [
  {
   "cell_type": "markdown",
   "metadata": {},
   "source": [
    "## This notebook is used to generate synthetic data of the format:  {sequence of characters that implement the desired task} - {desired task described in natural language}"
   ]
  },
  {
   "cell_type": "markdown",
   "metadata": {},
   "source": [
    "base.txt file was created by myself and it has (hopefully) all the vim commands with description."
   ]
  },
  {
   "cell_type": "code",
   "execution_count": 1,
   "metadata": {},
   "outputs": [
    {
     "name": "stdout",
     "output_type": "stream",
     "text": [
      "Total number of commands = 89\n"
     ]
    },
    {
     "data": {
      "text/html": [
       "<div>\n",
       "<style scoped>\n",
       "    .dataframe tbody tr th:only-of-type {\n",
       "        vertical-align: middle;\n",
       "    }\n",
       "\n",
       "    .dataframe tbody tr th {\n",
       "        vertical-align: top;\n",
       "    }\n",
       "\n",
       "    .dataframe thead th {\n",
       "        text-align: right;\n",
       "    }\n",
       "</style>\n",
       "<table border=\"1\" class=\"dataframe\">\n",
       "  <thead>\n",
       "    <tr style=\"text-align: right;\">\n",
       "      <th></th>\n",
       "      <th>key</th>\n",
       "      <th>description</th>\n",
       "    </tr>\n",
       "  </thead>\n",
       "  <tbody>\n",
       "    <tr>\n",
       "      <th>52</th>\n",
       "      <td>o</td>\n",
       "      <td>move from one end of the selected text to the ...</td>\n",
       "    </tr>\n",
       "    <tr>\n",
       "      <th>88</th>\n",
       "      <td>@@</td>\n",
       "      <td>run last macro again</td>\n",
       "    </tr>\n",
       "    <tr>\n",
       "      <th>12</th>\n",
       "      <td>^</td>\n",
       "      <td>jump to the first (non-blank) character of the...</td>\n",
       "    </tr>\n",
       "    <tr>\n",
       "      <th>27</th>\n",
       "      <td>a</td>\n",
       "      <td>switch to insert mode after the cursor</td>\n",
       "    </tr>\n",
       "    <tr>\n",
       "      <th>1</th>\n",
       "      <td>j</td>\n",
       "      <td>move the cursor down</td>\n",
       "    </tr>\n",
       "  </tbody>\n",
       "</table>\n",
       "</div>"
      ],
      "text/plain": [
       "   key                                        description\n",
       "52   o  move from one end of the selected text to the ...\n",
       "88  @@                               run last macro again\n",
       "12   ^  jump to the first (non-blank) character of the...\n",
       "27   a             switch to insert mode after the cursor\n",
       "1    j                               move the cursor down"
      ]
     },
     "execution_count": 1,
     "metadata": {},
     "output_type": "execute_result"
    }
   ],
   "source": [
    "import pandas as pd\n",
    "\n",
    "df = pd.read_csv('base.txt', sep=r'\\s–\\s', engine='python', names=['key', 'description'])\n",
    "print(f'Total number of commands = {df.shape[0]}')\n",
    "df.sample(5)"
   ]
  },
  {
   "cell_type": "markdown",
   "metadata": {},
   "source": [
    "## Now I will use gpt4o with web-search to generate different scenarios of usages for each command"
   ]
  },
  {
   "cell_type": "code",
   "execution_count": 2,
   "metadata": {},
   "outputs": [
    {
     "data": {
      "text/plain": [
       "'w:  move to the start of the next word'"
      ]
     },
     "execution_count": 2,
     "metadata": {},
     "output_type": "execute_result"
    }
   ],
   "source": [
    "cmd = f'{df.iloc[6].key}:  {df.iloc[6].description}'\n",
    "cmd"
   ]
  },
  {
   "cell_type": "code",
   "execution_count": null,
   "metadata": {},
   "outputs": [],
   "source": [
    "querry = f'''Generate 20 different and diverse vim motions sequences for different scenarios including the following command: {str('{') + cmd + str('}')}\n",
    "Your answers should inlucde both simple and complex sequences and cover all casual situatios that may require using the given command. Your examples might also inlucde sequences using other commands with the combination of given command\n",
    "\n",
    "for example for the command {{d: delete (cut) the marked text}} you would write: \n",
    "\n",
    "{{dw: delete word}},\n",
    "{{dW: delete WORD}},\n",
    "etc...\n",
    "\n",
    "Your answer should be in the following format and not include anything except the commands and scenarios:\n",
    "{{command1: description1}},\n",
    "{{command2: description2}}\n",
    "\n",
    "'''"
   ]
  },
  {
   "cell_type": "code",
   "execution_count": null,
   "metadata": {},
   "outputs": [
    {
     "name": "stdout",
     "output_type": "stream",
     "text": [
      "{w: move to the start of the next word},\n",
      "{2w: move to the start of the second next word},\n",
      "{3w: move to the start of the third next word},\n",
      "{w$: move to the start of the next word and delete to the end of the line},\n",
      "{dww: delete the current word and the next word},\n",
      "{d2w: delete the current word and the second next word},\n",
      "{d3w: delete the current word and the third next word},\n",
      "{cw: change the current word},\n",
      "{c2w: change the current word and the next word},\n",
      "{c3w: change the current word and the second next word},\n",
      "{yw: yank the current word},\n",
      "{y2w: yank the current word and the next word},\n",
      "{y3w: yank the current word and the second next word},\n",
      "{d3w: delete the current word and the next two words},\n",
      "{d3w$: delete the current word and the next two words to the end of the line},\n",
      "{d3w0: delete the current word and the next two words to the beginning of the line},\n",
      "{d3w^: delete the current word and the next two words to the first non-blank character of the line} \n"
     ]
    }
   ],
   "source": [
    "from openai import OpenAI\n",
    "client = OpenAI(api_key='there was my key')\n",
    "\n",
    "completion = client.chat.completions.create(\n",
    "    model=\"gpt-4o-mini-search-preview\",\n",
    "    messages=[\n",
    "        {\n",
    "            \"role\": \"user\",\n",
    "            \"content\": querry\n",
    "        }\n",
    "    ]\n",
    ")\n",
    "\n",
    "print(completion.choices[0].message.content)"
   ]
  },
  {
   "cell_type": "code",
   "execution_count": 5,
   "metadata": {},
   "outputs": [],
   "source": [
    "import re\n",
    "\n",
    "def parse_commands(commands_str: str, df: pd.DataFrame = None) -> pd.DataFrame:\n",
    "\n",
    "    pattern = r\"\\{([^}]+)\\}\"\n",
    "    matches = re.findall(pattern, commands_str)\n",
    "    \n",
    "    for match in matches:\n",
    "        if \":\" in match:\n",
    "            key, description = match.split(\":\", 1)\n",
    "            key = key.strip()\n",
    "            description = description.strip()\n",
    "            df.loc[len(df)] = [key, description]\n",
    "            \n",
    "    return df"
   ]
  },
  {
   "cell_type": "code",
   "execution_count": null,
   "metadata": {},
   "outputs": [
    {
     "data": {
      "text/html": [
       "<div>\n",
       "<style scoped>\n",
       "    .dataframe tbody tr th:only-of-type {\n",
       "        vertical-align: middle;\n",
       "    }\n",
       "\n",
       "    .dataframe tbody tr th {\n",
       "        vertical-align: top;\n",
       "    }\n",
       "\n",
       "    .dataframe thead th {\n",
       "        text-align: right;\n",
       "    }\n",
       "</style>\n",
       "<table border=\"1\" class=\"dataframe\">\n",
       "  <thead>\n",
       "    <tr style=\"text-align: right;\">\n",
       "      <th></th>\n",
       "      <th>key</th>\n",
       "      <th>description</th>\n",
       "    </tr>\n",
       "  </thead>\n",
       "  <tbody>\n",
       "    <tr>\n",
       "      <th>0</th>\n",
       "      <td>w</td>\n",
       "      <td>move to the start of the next word</td>\n",
       "    </tr>\n",
       "    <tr>\n",
       "      <th>1</th>\n",
       "      <td>2w</td>\n",
       "      <td>move to the start of the second next word</td>\n",
       "    </tr>\n",
       "    <tr>\n",
       "      <th>2</th>\n",
       "      <td>3w</td>\n",
       "      <td>move to the start of the third next word</td>\n",
       "    </tr>\n",
       "    <tr>\n",
       "      <th>3</th>\n",
       "      <td>w$</td>\n",
       "      <td>move to the start of the next word and delete ...</td>\n",
       "    </tr>\n",
       "    <tr>\n",
       "      <th>4</th>\n",
       "      <td>dww</td>\n",
       "      <td>delete the current word and the next word</td>\n",
       "    </tr>\n",
       "    <tr>\n",
       "      <th>5</th>\n",
       "      <td>d2w</td>\n",
       "      <td>delete the current word and the second next word</td>\n",
       "    </tr>\n",
       "    <tr>\n",
       "      <th>6</th>\n",
       "      <td>d3w</td>\n",
       "      <td>delete the current word and the third next word</td>\n",
       "    </tr>\n",
       "    <tr>\n",
       "      <th>7</th>\n",
       "      <td>cw</td>\n",
       "      <td>change the current word</td>\n",
       "    </tr>\n",
       "    <tr>\n",
       "      <th>8</th>\n",
       "      <td>c2w</td>\n",
       "      <td>change the current word and the next word</td>\n",
       "    </tr>\n",
       "    <tr>\n",
       "      <th>9</th>\n",
       "      <td>c3w</td>\n",
       "      <td>change the current word and the second next word</td>\n",
       "    </tr>\n",
       "    <tr>\n",
       "      <th>10</th>\n",
       "      <td>yw</td>\n",
       "      <td>yank the current word</td>\n",
       "    </tr>\n",
       "    <tr>\n",
       "      <th>11</th>\n",
       "      <td>y2w</td>\n",
       "      <td>yank the current word and the next word</td>\n",
       "    </tr>\n",
       "    <tr>\n",
       "      <th>12</th>\n",
       "      <td>y3w</td>\n",
       "      <td>yank the current word and the second next word</td>\n",
       "    </tr>\n",
       "    <tr>\n",
       "      <th>13</th>\n",
       "      <td>d3w</td>\n",
       "      <td>delete the current word and the next two words</td>\n",
       "    </tr>\n",
       "    <tr>\n",
       "      <th>14</th>\n",
       "      <td>d3w$</td>\n",
       "      <td>delete the current word and the next two words...</td>\n",
       "    </tr>\n",
       "    <tr>\n",
       "      <th>15</th>\n",
       "      <td>d3w0</td>\n",
       "      <td>delete the current word and the next two words...</td>\n",
       "    </tr>\n",
       "    <tr>\n",
       "      <th>16</th>\n",
       "      <td>d3w^</td>\n",
       "      <td>delete the current word and the next two words...</td>\n",
       "    </tr>\n",
       "  </tbody>\n",
       "</table>\n",
       "</div>"
      ],
      "text/plain": [
       "     key                                        description\n",
       "0      w                 move to the start of the next word\n",
       "1     2w          move to the start of the second next word\n",
       "2     3w           move to the start of the third next word\n",
       "3     w$  move to the start of the next word and delete ...\n",
       "4    dww          delete the current word and the next word\n",
       "5    d2w   delete the current word and the second next word\n",
       "6    d3w    delete the current word and the third next word\n",
       "7     cw                            change the current word\n",
       "8    c2w          change the current word and the next word\n",
       "9    c3w   change the current word and the second next word\n",
       "10    yw                              yank the current word\n",
       "11   y2w            yank the current word and the next word\n",
       "12   y3w     yank the current word and the second next word\n",
       "13   d3w     delete the current word and the next two words\n",
       "14  d3w$  delete the current word and the next two words...\n",
       "15  d3w0  delete the current word and the next two words...\n",
       "16  d3w^  delete the current word and the next two words..."
      ]
     },
     "execution_count": 6,
     "metadata": {},
     "output_type": "execute_result"
    }
   ],
   "source": [
    "# just testing\n",
    "\n",
    "df_test = pd.DataFrame(columns=[\"key\", \"description\"])\n",
    "answer = completion.choices[0].message.content\n",
    "\n",
    "df_test = parse_commands(answer, df_test)\n",
    "df_test"
   ]
  },
  {
   "cell_type": "code",
   "execution_count": 8,
   "metadata": {},
   "outputs": [],
   "source": [
    "def get_prompt(cmd):\n",
    "    \n",
    "    prompt = f'''Generate 20 different and diverse vim motions sequences for different scenarios including the following command: {str('{') + cmd + str('}')}\n",
    "    Your answers should inlucde both simple and complex sequences and cover all casual situatios that may require using the given command. Your examples might also inlucde sequences using other commands with the combination of given command\n",
    "\n",
    "    for example for the command {{d: delete (cut) the marked text}} you would write: \n",
    "\n",
    "    {{dw: delete word}},\n",
    "    {{dW: delete WORD}},\n",
    "    etc...\n",
    "\n",
    "    Your answer should be in the following format and not include anything except the commands and scenarios:\n",
    "    {{command1: description1}},\n",
    "    {{command2: description2}}\n",
    "\n",
    "    '''\n",
    "    \n",
    "    return prompt"
   ]
  },
  {
   "cell_type": "code",
   "execution_count": 9,
   "metadata": {},
   "outputs": [],
   "source": [
    "from tqdm import tqdm\n",
    "\n",
    "def generate_dateset(base_df, output_df):\n",
    "    for i in tqdm(range(base_df.shape[0]), desc=\"Processing commands\"):\n",
    "        cmd = f'{base_df.iloc[i].key}:  {base_df.iloc[i].description}'\n",
    "        prompt = get_prompt(cmd)\n",
    "        \n",
    "        completion = client.chat.completions.create(\n",
    "            model=\"gpt-4o-mini-search-preview\",\n",
    "            messages=[\n",
    "                {\n",
    "                    \"role\": \"user\",\n",
    "                    \"content\": prompt\n",
    "                }\n",
    "            ]\n",
    "        )\n",
    "        answer = completion.choices[0].message.content \n",
    "        output_df = parse_commands(answer, output_df)\n",
    "        \n",
    "    return output_df\n"
   ]
  },
  {
   "cell_type": "code",
   "execution_count": 10,
   "metadata": {},
   "outputs": [],
   "source": [
    "df_synthetic = df.copy() # synthetic data also includes original commands"
   ]
  },
  {
   "cell_type": "code",
   "execution_count": 11,
   "metadata": {},
   "outputs": [
    {
     "name": "stderr",
     "output_type": "stream",
     "text": [
      "Processing commands: 100%|██████████| 89/89 [11:39<00:00,  7.86s/it]\n"
     ]
    }
   ],
   "source": [
    "df_synthetic = generate_dateset(df, df_synthetic)"
   ]
  },
  {
   "cell_type": "markdown",
   "metadata": {},
   "source": [
    "## Brief look at the results"
   ]
  },
  {
   "cell_type": "code",
   "execution_count": 12,
   "metadata": {},
   "outputs": [
    {
     "data": {
      "text/plain": [
       "3304"
      ]
     },
     "execution_count": 12,
     "metadata": {},
     "output_type": "execute_result"
    }
   ],
   "source": [
    "df_synthetic.shape[0]"
   ]
  },
  {
   "cell_type": "code",
   "execution_count": 13,
   "metadata": {},
   "outputs": [
    {
     "data": {
      "text/html": [
       "<div>\n",
       "<style scoped>\n",
       "    .dataframe tbody tr th:only-of-type {\n",
       "        vertical-align: middle;\n",
       "    }\n",
       "\n",
       "    .dataframe tbody tr th {\n",
       "        vertical-align: top;\n",
       "    }\n",
       "\n",
       "    .dataframe thead th {\n",
       "        text-align: right;\n",
       "    }\n",
       "</style>\n",
       "<table border=\"1\" class=\"dataframe\">\n",
       "  <thead>\n",
       "    <tr style=\"text-align: right;\">\n",
       "      <th></th>\n",
       "      <th>key</th>\n",
       "      <th>description</th>\n",
       "    </tr>\n",
       "  </thead>\n",
       "  <tbody>\n",
       "    <tr>\n",
       "      <th>2280</th>\n",
       "      <td>*yW</td>\n",
       "      <td>yank the current WORD</td>\n",
       "    </tr>\n",
       "    <tr>\n",
       "      <th>655</th>\n",
       "      <td>dE3w</td>\n",
       "      <td>delete to the end of the third word</td>\n",
       "    </tr>\n",
       "    <tr>\n",
       "      <th>2099</th>\n",
       "      <td>di[</td>\n",
       "      <td>delete inside square brackets</td>\n",
       "    </tr>\n",
       "    <tr>\n",
       "      <th>3197</th>\n",
       "      <td>dT'</td>\n",
       "      <td>delete to just before previous occurrence of '''</td>\n",
       "    </tr>\n",
       "    <tr>\n",
       "      <th>1207</th>\n",
       "      <td>O30</td>\n",
       "      <td>open a new line above the current one and move...</td>\n",
       "    </tr>\n",
       "    <tr>\n",
       "      <th>2140</th>\n",
       "      <td>di{</td>\n",
       "      <td>delete inside curly braces</td>\n",
       "    </tr>\n",
       "    <tr>\n",
       "      <th>122</th>\n",
       "      <td>h3G</td>\n",
       "      <td>move the cursor left to the beginning of the t...</td>\n",
       "    </tr>\n",
       "    <tr>\n",
       "      <th>2933</th>\n",
       "      <td>d$</td>\n",
       "      <td>delete to end of line</td>\n",
       "    </tr>\n",
       "    <tr>\n",
       "      <th>339</th>\n",
       "      <td>Ctrl+w, H</td>\n",
       "      <td>move the current window to the far left</td>\n",
       "    </tr>\n",
       "    <tr>\n",
       "      <th>796</th>\n",
       "      <td>y^</td>\n",
       "      <td>yank from the cursor position to the first non...</td>\n",
       "    </tr>\n",
       "  </tbody>\n",
       "</table>\n",
       "</div>"
      ],
      "text/plain": [
       "            key                                        description\n",
       "2280        *yW                              yank the current WORD\n",
       "655        dE3w                delete to the end of the third word\n",
       "2099        di[                      delete inside square brackets\n",
       "3197        dT'   delete to just before previous occurrence of '''\n",
       "1207        O30  open a new line above the current one and move...\n",
       "2140        di{                         delete inside curly braces\n",
       "122         h3G  move the cursor left to the beginning of the t...\n",
       "2933         d$                              delete to end of line\n",
       "339   Ctrl+w, H            move the current window to the far left\n",
       "796          y^  yank from the cursor position to the first non..."
      ]
     },
     "execution_count": 13,
     "metadata": {},
     "output_type": "execute_result"
    }
   ],
   "source": [
    "df_synthetic.sample(10)"
   ]
  },
  {
   "cell_type": "code",
   "execution_count": 16,
   "metadata": {},
   "outputs": [],
   "source": [
    "df_synthetic.to_csv('data_raw.csv', index=False)"
   ]
  },
  {
   "cell_type": "code",
   "execution_count": 63,
   "metadata": {},
   "outputs": [
    {
     "data": {
      "text/plain": [
       "1321"
      ]
     },
     "execution_count": 63,
     "metadata": {},
     "output_type": "execute_result"
    }
   ],
   "source": [
    "df_synthetic[df_synthetic.duplicated()].shape[0]"
   ]
  },
  {
   "cell_type": "code",
   "execution_count": null,
   "metadata": {},
   "outputs": [],
   "source": [
    "# deleting duplicates\n",
    "df_synthetic.drop_duplicates(inplace=True)"
   ]
  },
  {
   "cell_type": "code",
   "execution_count": 66,
   "metadata": {},
   "outputs": [
    {
     "data": {
      "text/plain": [
       "1983"
      ]
     },
     "execution_count": 66,
     "metadata": {},
     "output_type": "execute_result"
    }
   ],
   "source": [
    "df_synthetic.shape[0]"
   ]
  },
  {
   "cell_type": "code",
   "execution_count": 67,
   "metadata": {},
   "outputs": [],
   "source": [
    "df_synthetic.to_csv('data_unuqie_raw.csv', index=False)"
   ]
  },
  {
   "cell_type": "markdown",
   "metadata": {},
   "source": [
    "I also visually inspected the data and manually deleted artefacts so i need to re-read the file"
   ]
  },
  {
   "cell_type": "code",
   "execution_count": 12,
   "metadata": {},
   "outputs": [],
   "source": [
    "df_synthetic = pd.read_csv('data_unuqie_clean.csv')"
   ]
  },
  {
   "cell_type": "markdown",
   "metadata": {},
   "source": [
    "## Now i will validate and correct some commands using o1-mini"
   ]
  },
  {
   "cell_type": "code",
   "execution_count": 13,
   "metadata": {},
   "outputs": [
    {
     "data": {
      "text/plain": [
       "'W - move to the start of the next token'"
      ]
     },
     "execution_count": 13,
     "metadata": {},
     "output_type": "execute_result"
    }
   ],
   "source": [
    "cmd = f'{df_synthetic.iloc[7].key} - {df_synthetic.iloc[7].description}'\n",
    "cmd"
   ]
  },
  {
   "cell_type": "code",
   "execution_count": 14,
   "metadata": {},
   "outputs": [],
   "source": [
    "def get_prompt(cmd):\n",
    "    \n",
    "    prompt = f'''NOTE: token is the same as WORD - sequence of non-whitespace characters\n",
    "    If the wollowing vim command is correct - wrtie only 'yes'. If it is incorrect - write only the '{{correct command}}'\n",
    "    {cmd}\n",
    "    '''\n",
    "    \n",
    "    return prompt"
   ]
  },
  {
   "cell_type": "code",
   "execution_count": 15,
   "metadata": {},
   "outputs": [
    {
     "data": {
      "text/plain": [
       "\"NOTE: token is the same as WORD - sequence of non-whitespace characters\\n    If the wollowing vim command is correct - wrtie only 'yes'. If it is incorrect - write only the '{correct command}'\\n    W - move to the start of the next token\\n    \""
      ]
     },
     "execution_count": 15,
     "metadata": {},
     "output_type": "execute_result"
    }
   ],
   "source": [
    "querry = get_prompt(cmd)\n",
    "querry"
   ]
  },
  {
   "cell_type": "code",
   "execution_count": 19,
   "metadata": {},
   "outputs": [
    {
     "name": "stdout",
     "output_type": "stream",
     "text": [
      "yes\n"
     ]
    }
   ],
   "source": [
    "completion = client.chat.completions.create(\n",
    "                model=\"o1-mini\",\n",
    "                messages=[\n",
    "                    {\n",
    "                        \"role\": \"user\",\n",
    "                        \"content\": querry\n",
    "                    }\n",
    "                ],\n",
    "                stream=False\n",
    "            )\n",
    "\n",
    "print(completion.choices[0].message.content)"
   ]
  },
  {
   "cell_type": "code",
   "execution_count": null,
   "metadata": {},
   "outputs": [],
   "source": [
    "def run_validation(df, validation_results=None, start_index=0):\n",
    "    if validation_results is None:\n",
    "        validation_results = []\n",
    "    \n",
    "    for i in tqdm(range(start_index, df.shape[0]), desc=\"Processing commands\"):\n",
    "        cmd = f'{df.iloc[i].key} - {df.iloc[i].description}'\n",
    "        prompt = get_prompt(cmd)\n",
    "        \n",
    "        try:\n",
    "            completion = client.chat.completions.create(\n",
    "                model=\"o1-mini\",\n",
    "                messages=[\n",
    "                    {\n",
    "                        \"role\": \"user\",\n",
    "                        \"content\": prompt\n",
    "                    }\n",
    "                ],\n",
    "                stream=False\n",
    "            )\n",
    "            answer = completion.choices[0].message.content \n",
    "            validation_results.append(answer)\n",
    "        except Exception as e:\n",
    "            print(f\"API error encountered: {e}. Saving results\")\n",
    "            return validation_results\n",
    "            \n",
    "    return validation_results"
   ]
  },
  {
   "cell_type": "code",
   "execution_count": 27,
   "metadata": {},
   "outputs": [
    {
     "name": "stderr",
     "output_type": "stream",
     "text": [
      "Processing commands: 100%|██████████| 1384/1384 [1:46:31<00:00,  4.62s/it] \n"
     ]
    }
   ],
   "source": [
    "validation_results = run_validation(df_synthetic, start_index=89)"
   ]
  },
  {
   "cell_type": "code",
   "execution_count": 28,
   "metadata": {},
   "outputs": [],
   "source": [
    "import pickle\n",
    "\n",
    "with open(\"validation_results.pkl\", \"wb\") as f:\n",
    "    pickle.dump(validation_results, f)"
   ]
  },
  {
   "cell_type": "code",
   "execution_count": null,
   "metadata": {},
   "outputs": [],
   "source": [
    "validation_results_complete = ['yes' for _ in range(89)] + validation_results # first 89 rows are from base.txt and hence they are correct "
   ]
  },
  {
   "cell_type": "code",
   "execution_count": 34,
   "metadata": {},
   "outputs": [],
   "source": [
    "assert len(validation_results_complete) == df_synthetic.shape[0]"
   ]
  },
  {
   "cell_type": "markdown",
   "metadata": {},
   "source": [
    "Correct commands that are marked as incorrect during validation"
   ]
  },
  {
   "cell_type": "code",
   "execution_count": null,
   "metadata": {},
   "outputs": [],
   "source": [
    "for i, result in enumerate(validation_results_complete):\n",
    "\n",
    "    if result == 'yes':\n",
    "        continue\n",
    "\n",
    "    if result.startswith('{') and result.endswith('}'):\n",
    "        new_value = result[1:-1]\n",
    "    else:\n",
    "        new_value = result\n",
    "    df_synthetic.at[i, 'key'] = new_value\n",
    "\n",
    "df_synthetic.to_csv('data_validated.csv', index=False)"
   ]
  },
  {
   "cell_type": "code",
   "execution_count": 12,
   "metadata": {},
   "outputs": [],
   "source": [
    "# did manual inspection and removed\n",
    "\n",
    "df_synthetic = pd.read_csv('data_validated.csv')"
   ]
  },
  {
   "cell_type": "code",
   "execution_count": 13,
   "metadata": {},
   "outputs": [],
   "source": [
    "df_synthetic.drop_duplicates(inplace=True, ignore_index=True)\n",
    "df_synthetic.to_csv('data_validated.csv', index=False)"
   ]
  },
  {
   "cell_type": "code",
   "execution_count": 14,
   "metadata": {},
   "outputs": [],
   "source": [
    "df_synthetic['count'] = df_synthetic.groupby('key')['key'].transform('count')"
   ]
  },
  {
   "cell_type": "code",
   "execution_count": 15,
   "metadata": {},
   "outputs": [
    {
     "data": {
      "text/html": [
       "<div>\n",
       "<style scoped>\n",
       "    .dataframe tbody tr th:only-of-type {\n",
       "        vertical-align: middle;\n",
       "    }\n",
       "\n",
       "    .dataframe tbody tr th {\n",
       "        vertical-align: top;\n",
       "    }\n",
       "\n",
       "    .dataframe thead th {\n",
       "        text-align: right;\n",
       "    }\n",
       "</style>\n",
       "<table border=\"1\" class=\"dataframe\">\n",
       "  <thead>\n",
       "    <tr style=\"text-align: right;\">\n",
       "      <th></th>\n",
       "      <th>key</th>\n",
       "      <th>description</th>\n",
       "      <th>count</th>\n",
       "    </tr>\n",
       "  </thead>\n",
       "  <tbody>\n",
       "    <tr>\n",
       "      <th>263</th>\n",
       "      <td>d$</td>\n",
       "      <td>delete from the cursor position to the end of ...</td>\n",
       "      <td>13</td>\n",
       "    </tr>\n",
       "    <tr>\n",
       "      <th>709</th>\n",
       "      <td>d$</td>\n",
       "      <td>delete the selected lines from the cursor posi...</td>\n",
       "      <td>13</td>\n",
       "    </tr>\n",
       "    <tr>\n",
       "      <th>241</th>\n",
       "      <td>d$</td>\n",
       "      <td>Delete from the cursor position to the end of ...</td>\n",
       "      <td>13</td>\n",
       "    </tr>\n",
       "    <tr>\n",
       "      <th>207</th>\n",
       "      <td>d$</td>\n",
       "      <td>delete to the end of the line</td>\n",
       "      <td>13</td>\n",
       "    </tr>\n",
       "    <tr>\n",
       "      <th>243</th>\n",
       "      <td>d$</td>\n",
       "      <td>Delete from the cursor position to the end of ...</td>\n",
       "      <td>13</td>\n",
       "    </tr>\n",
       "    <tr>\n",
       "      <th>...</th>\n",
       "      <td>...</td>\n",
       "      <td>...</td>\n",
       "      <td>...</td>\n",
       "    </tr>\n",
       "    <tr>\n",
       "      <th>607</th>\n",
       "      <td>d/&lt;pattern&gt;</td>\n",
       "      <td>delete from the cursor to the next occurrence ...</td>\n",
       "      <td>1</td>\n",
       "    </tr>\n",
       "    <tr>\n",
       "      <th>613</th>\n",
       "      <td>d4k</td>\n",
       "      <td>delete the current line and the previous four ...</td>\n",
       "      <td>1</td>\n",
       "    </tr>\n",
       "    <tr>\n",
       "      <th>616</th>\n",
       "      <td>dt.</td>\n",
       "      <td>delete up to but not including the next period</td>\n",
       "      <td>1</td>\n",
       "    </tr>\n",
       "    <tr>\n",
       "      <th>617</th>\n",
       "      <td>d/word/e</td>\n",
       "      <td>delete up to and including the next occurrence...</td>\n",
       "      <td>1</td>\n",
       "    </tr>\n",
       "    <tr>\n",
       "      <th>1117</th>\n",
       "      <td>d3&lt;C-B&gt;</td>\n",
       "      <td>delete three full-screens up</td>\n",
       "      <td>1</td>\n",
       "    </tr>\n",
       "  </tbody>\n",
       "</table>\n",
       "<p>1118 rows × 3 columns</p>\n",
       "</div>"
      ],
      "text/plain": [
       "              key                                        description  count\n",
       "263            d$  delete from the cursor position to the end of ...     13\n",
       "709            d$  delete the selected lines from the cursor posi...     13\n",
       "241            d$  Delete from the cursor position to the end of ...     13\n",
       "207            d$                      delete to the end of the line     13\n",
       "243            d$  Delete from the cursor position to the end of ...     13\n",
       "...           ...                                                ...    ...\n",
       "607   d/<pattern>  delete from the cursor to the next occurrence ...      1\n",
       "613           d4k  delete the current line and the previous four ...      1\n",
       "616           dt.     delete up to but not including the next period      1\n",
       "617      d/word/e  delete up to and including the next occurrence...      1\n",
       "1117      d3<C-B>                       delete three full-screens up      1\n",
       "\n",
       "[1118 rows x 3 columns]"
      ]
     },
     "execution_count": 15,
     "metadata": {},
     "output_type": "execute_result"
    }
   ],
   "source": [
    "df_synthetic.sort_values('count', ascending=False)"
   ]
  },
  {
   "cell_type": "code",
   "execution_count": null,
   "metadata": {},
   "outputs": [
    {
     "data": {
      "image/png": "[encoded data removed]",
      "text/plain": [
       "<Figure size 640x480 with 1 Axes>"
      ]
     },
     "metadata": {},
     "output_type": "display_data"
    }
   ],
   "source": [
    "import seaborn as sns\n",
    "import matplotlib.pyplot as plt\n",
    "\n",
    "sns.histplot(df_synthetic['count'])\n",
    "plt.show()"
   ]
  },
  {
   "cell_type": "markdown",
   "metadata": {},
   "source": [
    "Currently there is clear disbalance in commands so I wil fix it by the following schema:\n",
    "\n",
    "- if command is met less than 4 times generate a few more paraphrases for the existing description\n",
    "- else just skip it"
   ]
  },
  {
   "cell_type": "code",
   "execution_count": 32,
   "metadata": {},
   "outputs": [],
   "source": [
    "def get_prompt(phrase, x):\n",
    "    prompt = (\n",
    "        \"I am preparing a dataset to train a language model on short textual 'scenarios' describing commands used in Vim.\\n\"\n",
    "        \"Your task is to rephrase these scenarios without losing any essential information or changing any command references.\\n\\n\"\n",
    "        f\"Generate {x} distinct paraphrases for the following scenario:\\n\"\n",
    "        f\"\\\"{phrase}\\\"\\n\\n\"\n",
    "        \"Follow these rules strictly:\\n\"\n",
    "        \"1. Preserve the full meaning and keep all key/command references accurate.\\n\"\n",
    "        \"2. Avoid using complex words or structures.\\n\"\n",
    "        \"3. Each paraphrase must be on its own line.\\n\"\n",
    "        \"4. Do not end any line with punctuation.\\n\"\n",
    "        \"5. Output only the paraphrases, and nothing else.\"\n",
    "    )\n",
    "    return prompt\n"
   ]
  },
  {
   "cell_type": "code",
   "execution_count": 33,
   "metadata": {},
   "outputs": [
    {
     "data": {
      "text/plain": [
       "'I am preparing a dataset to train a language model on short textual \\'scenarios\\' describing commands used in Vim.\\nYour task is to rephrase these scenarios without losing any essential information or changing any command references.\\n\\nGenerate 3 distinct paraphrases for the following scenario:\\n\"delete to beginning of file\"\\n\\nFollow these rules strictly:\\n1. Preserve the full meaning and keep all key/command references accurate.\\n2. Avoid using complex words or structures.\\n3. Each paraphrase must be on its own line.\\n4. Do not end any line with punctuation.\\n5. Output only the paraphrases, and nothing else.'"
      ]
     },
     "execution_count": 33,
     "metadata": {},
     "output_type": "execute_result"
    }
   ],
   "source": [
    "get_prompt(df_synthetic.iloc[521]['description'], 3)"
   ]
  },
  {
   "cell_type": "code",
   "execution_count": 34,
   "metadata": {},
   "outputs": [
    {
     "data": {
      "text/plain": [
       "\"remove text up to the start of the file  \\nerase content until the file's beginning  \\nclear everything to the top of the file\""
      ]
     },
     "execution_count": 34,
     "metadata": {},
     "output_type": "execute_result"
    }
   ],
   "source": [
    "prompt = get_prompt(df_synthetic.iloc[521]['description'], 3)\n",
    "\n",
    "completion = client.chat.completions.create(\n",
    "            model=\"gpt-4o\",\n",
    "            messages=[{\"role\": \"user\", \"content\": prompt}],\n",
    "            stream=False\n",
    "        )\n",
    "\n",
    "completion.choices[0].message.content.strip()"
   ]
  },
  {
   "cell_type": "markdown",
   "metadata": {},
   "source": [
    "I need to get df with unque keys and iterate over it because if I use non unique I will end up generating (4 - count) examples for each occurance of the key which is not what I want, because I want total 4 descriptions for each key"
   ]
  },
  {
   "cell_type": "code",
   "execution_count": 39,
   "metadata": {},
   "outputs": [],
   "source": [
    "df_synthetic_unique = df_synthetic.drop_duplicates(subset=['key'], keep='first')"
   ]
  },
  {
   "cell_type": "code",
   "execution_count": null,
   "metadata": {},
   "outputs": [
    {
     "name": "stderr",
     "output_type": "stream",
     "text": [
      "Enriching Data:  57%|█████▋    | 637/1118 [11:47<08:54,  1.11s/it]\n"
     ]
    }
   ],
   "source": [
    "new_rows = []\n",
    "\n",
    "for index, row in tqdm(df_synthetic_unique.iterrows(), total=len(df_synthetic), desc=\"Enriching Data\"): # i just noticed that total = len(df_synthetic) but not len(df_synthetic_unique) but anyway...\n",
    "    phrase = row[\"description\"]\n",
    "    count = row[\"count\"]\n",
    "    \n",
    "    if count < 4:\n",
    "        num_new_paraphrases = 4 - count\n",
    "        prompt = get_prompt(phrase, num_new_paraphrases)\n",
    "        \n",
    "        completion = client.chat.completions.create(\n",
    "            model=\"gpt-4o\",\n",
    "            messages=[{\"role\": \"user\", \"content\": prompt}],\n",
    "            stream=False\n",
    "        )\n",
    "        \n",
    "        answer = completion.choices[0].message.content.strip()\n",
    "        paraphrases = answer.split(\"\\n\")\n",
    "        \n",
    "        for p in paraphrases:\n",
    "            new_rows.append({\"key\": row[\"key\"], \"description\": p})\n",
    "\n",
    "df_enriched = pd.DataFrame(new_rows, columns=[\"key\", \"description\"])"
   ]
  },
  {
   "cell_type": "code",
   "execution_count": null,
   "metadata": {},
   "outputs": [],
   "source": [
    "df_final = pd.concat([df_synthetic.drop(columns=[\"count\"]), df_enriched], ignore_index=True)\n",
    "df_final.to_csv('final.csv', index=False)"
   ]
  },
  {
   "cell_type": "code",
   "execution_count": 43,
   "metadata": {},
   "outputs": [
    {
     "data": {
      "image/png": "[encoded data removed]",
      "text/plain": [
       "<Figure size 640x480 with 1 Axes>"
      ]
     },
     "metadata": {},
     "output_type": "display_data"
    }
   ],
   "source": [
    "df_final['count'] = df_final.groupby('key')['key'].transform('count')\n",
    "sns.histplot(df_final['count'])\n",
    "plt.show()"
   ]
  },
  {
   "cell_type": "markdown",
   "metadata": {},
   "source": [
    "ok that seems reasonable"
   ]
  },
  {
   "cell_type": "code",
   "execution_count": 44,
   "metadata": {},
   "outputs": [
    {
     "data": {
      "text/plain": [
       "2672"
      ]
     },
     "execution_count": 44,
     "metadata": {},
     "output_type": "execute_result"
    }
   ],
   "source": [
    "df_final.shape[0]"
   ]
  },
  {
   "cell_type": "code",
   "execution_count": 62,
   "metadata": {},
   "outputs": [
    {
     "data": {
      "text/plain": [
       "19"
      ]
     },
     "execution_count": 62,
     "metadata": {},
     "output_type": "execute_result"
    }
   ],
   "source": [
    "df_final[df_final['description'] == ''].shape[0]"
   ]
  },
  {
   "cell_type": "code",
   "execution_count": 63,
   "metadata": {},
   "outputs": [],
   "source": [
    "df_final = df_final[df_final['description'] != '']\n",
    "df_final.to_csv('final.csv', index=False)"
   ]
  },
  {
   "cell_type": "code",
   "execution_count": 66,
   "metadata": {},
   "outputs": [],
   "source": [
    "# again did some manual changes\n",
    "df_final = pd.read_csv('final.csv', usecols=['key', 'description'])"
   ]
  },
  {
   "cell_type": "code",
   "execution_count": 67,
   "metadata": {},
   "outputs": [
    {
     "data": {
      "text/html": [
       "<div>\n",
       "<style scoped>\n",
       "    .dataframe tbody tr th:only-of-type {\n",
       "        vertical-align: middle;\n",
       "    }\n",
       "\n",
       "    .dataframe tbody tr th {\n",
       "        vertical-align: top;\n",
       "    }\n",
       "\n",
       "    .dataframe thead th {\n",
       "        text-align: right;\n",
       "    }\n",
       "</style>\n",
       "<table border=\"1\" class=\"dataframe\">\n",
       "  <thead>\n",
       "    <tr style=\"text-align: right;\">\n",
       "      <th></th>\n",
       "      <th>key</th>\n",
       "      <th>description</th>\n",
       "    </tr>\n",
       "  </thead>\n",
       "  <tbody>\n",
       "    <tr>\n",
       "      <th>237</th>\n",
       "      <td>0f; $</td>\n",
       "      <td>Move to the next occurrence of ';' on the curr...</td>\n",
       "    </tr>\n",
       "    <tr>\n",
       "      <th>344</th>\n",
       "      <td>L ciw</td>\n",
       "      <td>move to the bottom of the screen, then change ...</td>\n",
       "    </tr>\n",
       "    <tr>\n",
       "      <th>347</th>\n",
       "      <td>L di(</td>\n",
       "      <td>move to the bottom of the screen, then delete ...</td>\n",
       "    </tr>\n",
       "    <tr>\n",
       "      <th>371</th>\n",
       "      <td>IHello World</td>\n",
       "      <td>insert 'Hello World' at the beginning of the line</td>\n",
       "    </tr>\n",
       "    <tr>\n",
       "      <th>718</th>\n",
       "      <td>Ctrl+v, I</td>\n",
       "      <td>insert text at the beginning of each line in t...</td>\n",
       "    </tr>\n",
       "    <tr>\n",
       "      <th>...</th>\n",
       "      <td>...</td>\n",
       "      <td>...</td>\n",
       "    </tr>\n",
       "    <tr>\n",
       "      <th>2519</th>\n",
       "      <td>2 Ctrl-i</td>\n",
       "      <td>go to the jump two spaces ahead</td>\n",
       "    </tr>\n",
       "    <tr>\n",
       "      <th>2520</th>\n",
       "      <td>2 Ctrl-i</td>\n",
       "      <td>advance to the next jump after the first one</td>\n",
       "    </tr>\n",
       "    <tr>\n",
       "      <th>2545</th>\n",
       "      <td>:.,'a c</td>\n",
       "      <td>modify text from this line to the line marked ...</td>\n",
       "    </tr>\n",
       "    <tr>\n",
       "      <th>2546</th>\n",
       "      <td>:.,'a c</td>\n",
       "      <td>replace content from the current line to the l...</td>\n",
       "    </tr>\n",
       "    <tr>\n",
       "      <th>2547</th>\n",
       "      <td>:.,'a c</td>\n",
       "      <td>update the text starting from this line to whe...</td>\n",
       "    </tr>\n",
       "  </tbody>\n",
       "</table>\n",
       "<p>99 rows × 2 columns</p>\n",
       "</div>"
      ],
      "text/plain": [
       "               key                                        description\n",
       "237          0f; $  Move to the next occurrence of ';' on the curr...\n",
       "344          L ciw  move to the bottom of the screen, then change ...\n",
       "347          L di(  move to the bottom of the screen, then delete ...\n",
       "371   IHello World  insert 'Hello World' at the beginning of the line\n",
       "718      Ctrl+v, I  insert text at the beginning of each line in t...\n",
       "...            ...                                                ...\n",
       "2519      2 Ctrl-i                  go to the jump two spaces ahead  \n",
       "2520      2 Ctrl-i       advance to the next jump after the first one\n",
       "2545       :.,'a c  modify text from this line to the line marked ...\n",
       "2546       :.,'a c  replace content from the current line to the l...\n",
       "2547       :.,'a c  update the text starting from this line to whe...\n",
       "\n",
       "[99 rows x 2 columns]"
      ]
     },
     "execution_count": 67,
     "metadata": {},
     "output_type": "execute_result"
    }
   ],
   "source": [
    "df_final[df_final['key'].str.contains(\" \", na=False)]"
   ]
  },
  {
   "cell_type": "code",
   "execution_count": null,
   "metadata": {},
   "outputs": [],
   "source": [
    "# I have noticed that sometimes in key there is Ctrl+v and sometimes it is written as <C-v> and sometimes as Ctrl-v. Here I change all to first notation\n",
    "\n",
    "df_final['key'] = df_final['key'].str.replace(r'<C-([A-Za-z])>', lambda m: f\"Ctrl+{m.group(1)}\", regex=True)\n",
    "df_final['key'] = df_final['key'].str.replace(r'Ctrl-([A-Za-z])', lambda m: f\"Ctrl+{m.group(1)}\", regex=True)\n",
    "\n",
    "df_final.to_csv('final.csv', index=False)"
   ]
  },
  {
   "cell_type": "code",
   "execution_count": null,
   "metadata": {},
   "outputs": [],
   "source": [
    "# finally sometimes there are whitespaces where they dont need to be so I delete them (keep only where there is 'Ctrl')\n",
    "\n",
    "mask = ~df_final['key'].str.contains(\"Ctrl\", na=False)\n",
    "df_final.loc[mask, 'key'] = df_final.loc[mask, 'key'].apply(lambda x: ''.join(x.split()))"
   ]
  },
  {
   "cell_type": "code",
   "execution_count": 81,
   "metadata": {},
   "outputs": [],
   "source": [
    "df_final.to_csv('final.csv', index=False)"
   ]
  }
 ],
 "metadata": {
  "kernelspec": {
   "display_name": "vim_tutor",
   "language": "python",
   "name": "python3"
  },
  "language_info": {
   "codemirror_mode": {
    "name": "ipython",
    "version": 3
   },
   "file_extension": ".py",
   "mimetype": "text/x-python",
   "name": "python",
   "nbconvert_exporter": "python",
   "pygments_lexer": "ipython3",
   "version": "3.10.16"
  }
 },
 "nbformat": 4,
 "nbformat_minor": 2
}
